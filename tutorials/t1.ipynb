{
 "cells": [
  {
   "cell_type": "markdown",
   "metadata": {},
   "source": [
    "**Table of contents**<a id='toc0_'></a>    \n",
    "- [README](#toc1_)    \n",
    "  - [環境構築とライブラリのインポート](#toc1_1_)    \n",
    "  - [データベースの作成と接続](#toc1_2_)    \n",
    "  - [カーソルの入手](#toc1_3_)    \n",
    "  - [テーブルの作成](#toc1_4_)    \n",
    "  - [データベースへの値の代入](#toc1_5_)    \n",
    "  - [データベースから値の取り出し](#toc1_6_)    \n",
    "  - [データベース接続を閉じる](#toc1_7_)    \n",
    "\n",
    "<!-- vscode-jupyter-toc-config\n",
    "\tnumbering=false\n",
    "\tanchor=true\n",
    "\tflat=false\n",
    "\tminLevel=1\n",
    "\tmaxLevel=6\n",
    "\t/vscode-jupyter-toc-config -->\n",
    "<!-- THIS CELL WILL BE REPLACED ON TOC UPDATE. DO NOT WRITE YOUR TEXT IN THIS CELL -->"
   ]
  },
  {
   "cell_type": "markdown",
   "metadata": {},
   "source": [
    "# <a id='toc1_'></a>[README](#toc0_)\n",
    "\n",
    "参考：https://docs.python.org/ja/3/library/sqlite3.html#  \n",
    "SQL文の参考：https://www.javadrive.jp/sqlite/"
   ]
  },
  {
   "cell_type": "markdown",
   "metadata": {},
   "source": [
    "## <a id='toc1_1_'></a>[環境構築とライブラリのインポート](#toc0_)\n",
    "\n",
    "sqlite の python ライブラリである `sqlite3` は python 2.5 以上で標準サポートされている。  \n",
    "import は以下の用に行う"
   ]
  },
  {
   "cell_type": "code",
   "execution_count": 1,
   "metadata": {},
   "outputs": [],
   "source": [
    "import sqlite3\n"
   ]
  },
  {
   "cell_type": "code",
   "execution_count": 2,
   "metadata": {},
   "outputs": [],
   "source": [
    "# type hint 用\n",
    "from sqlite3 import Connection, Row, Cursor"
   ]
  },
  {
   "cell_type": "markdown",
   "metadata": {},
   "source": [
    "## <a id='toc1_2_'></a>[データベースの作成と接続](#toc0_)\n",
    "\n",
    "以下のコードでデータベースをファイルとして作成して接続する。  \n",
    "既に作成済みの場合は接続する。  "
   ]
  },
  {
   "cell_type": "code",
   "execution_count": 3,
   "metadata": {},
   "outputs": [],
   "source": [
    "# このノートブックを再利用するために作成されているデータベースファイルを削除するためのプログラム\n",
    "from pathlib import Path\n",
    "curr_dir = Path(\"\")\n",
    "for p in list(curr_dir.glob('*.sqlite3')):\n",
    "    if p.exists():\n",
    "        p.unlink()"
   ]
  },
  {
   "cell_type": "code",
   "execution_count": 4,
   "metadata": {},
   "outputs": [],
   "source": [
    "DB_NAME = \"t1.sqlite3\"\n",
    "conn: Connection = sqlite3.connect(DB_NAME)"
   ]
  },
  {
   "cell_type": "markdown",
   "metadata": {},
   "source": [
    "## <a id='toc1_3_'></a>[カーソルの入手](#toc0_)\n",
    "\n",
    "カーソルとは データベースからデータを取得したりするための SQL 文を実行するために必要なものです。"
   ]
  },
  {
   "cell_type": "code",
   "execution_count": 5,
   "metadata": {},
   "outputs": [],
   "source": [
    "# カーソルを取得\n",
    "c: Cursor = conn.cursor()"
   ]
  },
  {
   "cell_type": "markdown",
   "metadata": {},
   "source": [
    "## <a id='toc1_4_'></a>[テーブルの作成](#toc0_)\n",
    "\n",
    "データベースにデータを保存するにはまず、テーブルと呼ばれる表を作成する必要があります。  \n",
    "テーブルの作成方法は Cursor インスタンスのメソッド`execute`に SQL文を渡します。  \n",
    "テーブル作成のSQL文は`CREATE TABLE テーブル名 (変数名1 SQLiteの型名, 変数名2 SQLiteの型名)`です。  \n",
    "SQLiteの型名とpythonの型との互換性は以下のURLを参考にしてください。  \n",
    "- https://docs.python.org/ja/3/library/sqlite3.html#sqlite-and-python-types  \n",
    "\n",
    "お試しに以下の様なテーブルを作成します。"
   ]
  },
  {
   "cell_type": "code",
   "execution_count": 6,
   "metadata": {},
   "outputs": [
    {
     "data": {
      "text/plain": [
       "<sqlite3.Cursor at 0x7f7a5411b0c0>"
      ]
     },
     "execution_count": 6,
     "metadata": {},
     "output_type": "execute_result"
    }
   ],
   "source": [
    "# テーブルを作成\n",
    "c.execute('CREATE TABLE articles  (id int, title text, body text)')"
   ]
  },
  {
   "cell_type": "markdown",
   "metadata": {},
   "source": [
    "テーブルが作成されているか確認するために以下の文を実行します。  \n",
    "これはデータベースに保存されているテーブル名を表示する SQL文です。  \n",
    "SQL文がわからなくてもとりあえず実行してください。"
   ]
  },
  {
   "cell_type": "code",
   "execution_count": 7,
   "metadata": {},
   "outputs": [
    {
     "data": {
      "text/plain": [
       "('articles',)"
      ]
     },
     "execution_count": 7,
     "metadata": {},
     "output_type": "execute_result"
    }
   ],
   "source": [
    "res = c.execute(\"SELECT name FROM sqlite_master\")\n",
    "res.fetchone()"
   ]
  },
  {
   "cell_type": "markdown",
   "metadata": {},
   "source": [
    "また以下の様に実行するとテーブルが作成された際のSQL文が把握できるので、どのような列名（以下カラム）があるかを確認できます。"
   ]
  },
  {
   "cell_type": "code",
   "execution_count": 8,
   "metadata": {},
   "outputs": [
    {
     "data": {
      "text/plain": [
       "[('table',\n",
       "  'articles',\n",
       "  'articles',\n",
       "  2,\n",
       "  'CREATE TABLE articles  (id int, title text, body text)')]"
      ]
     },
     "execution_count": 8,
     "metadata": {},
     "output_type": "execute_result"
    }
   ],
   "source": [
    "res = c.execute(\"SELECT * FROM sqlite_master\")\n",
    "res.fetchall()"
   ]
  },
  {
   "cell_type": "markdown",
   "metadata": {},
   "source": [
    "## <a id='toc1_5_'></a>[データベースへの値の代入](#toc0_)\n",
    "\n",
    "以下のSQL文を用いてデータを登録する。データベースへの保存は後述の`commit`をしなければならない。  \n",
    "`INSERT INTO テーブル名 values(value1, value2, ...)`  \n",
    "ここで文字列を扱う場合はシングルクウォーテーションで囲う.  \n"
   ]
  },
  {
   "cell_type": "code",
   "execution_count": 9,
   "metadata": {},
   "outputs": [
    {
     "data": {
      "text/plain": [
       "<sqlite3.Cursor at 0x7f7a5411b0c0>"
      ]
     },
     "execution_count": 9,
     "metadata": {},
     "output_type": "execute_result"
    }
   ],
   "source": [
    "c.execute(\"INSERT INTO articles values(1, 'test1', 'this is test body')\")"
   ]
  },
  {
   "cell_type": "code",
   "execution_count": 10,
   "metadata": {},
   "outputs": [],
   "source": [
    "conn.commit()"
   ]
  },
  {
   "cell_type": "markdown",
   "metadata": {},
   "source": [
    "以下の文でデータベースからデータを取り出して確認する"
   ]
  },
  {
   "cell_type": "code",
   "execution_count": 11,
   "metadata": {},
   "outputs": [
    {
     "data": {
      "text/plain": [
       "[(1, 'test1', 'this is test body')]"
      ]
     },
     "execution_count": 11,
     "metadata": {},
     "output_type": "execute_result"
    }
   ],
   "source": [
    "res = c.execute(\"SELECT * FROM articles\")\n",
    "res.fetchall()"
   ]
  },
  {
   "cell_type": "markdown",
   "metadata": {},
   "source": [
    "またデータベースへの値の代入方法には以下のようなモノも存在する。  \n",
    "- 変数からの代入\n",
    "- 一回で複数のデータの登録\n"
   ]
  },
  {
   "cell_type": "code",
   "execution_count": 12,
   "metadata": {},
   "outputs": [
    {
     "data": {
      "text/plain": [
       "[(1, 'test1', 'this is test body'), (2, 'test2', 'this is test body')]"
      ]
     },
     "execution_count": 12,
     "metadata": {},
     "output_type": "execute_result"
    }
   ],
   "source": [
    "# 変数からの代入\n",
    "data = [(2, 'test2', 'this is test body')]\n",
    "c.executemany(\"INSERT INTO articles values(?, ?, ?)\", data)\n",
    "conn.commit()\n",
    "\n",
    "res = c.execute(\"SELECT * FROM articles\")\n",
    "res.fetchall()"
   ]
  },
  {
   "cell_type": "code",
   "execution_count": 13,
   "metadata": {},
   "outputs": [
    {
     "data": {
      "text/plain": [
       "[(1, 'test1', 'this is test body'),\n",
       " (2, 'test2', 'this is test body'),\n",
       " (3, 'test3', 'this is test body'),\n",
       " (4, 'test4', 'this is test body')]"
      ]
     },
     "execution_count": 13,
     "metadata": {},
     "output_type": "execute_result"
    }
   ],
   "source": [
    "# 1回で複数のデータの登録\n",
    "c.execute(\"INSERT INTO articles values(3, 'test3', 'this is test body'), (4, 'test4', 'this is test body')\")\n",
    "conn.commit()\n",
    "\n",
    "res = c.execute(\"SELECT * FROM articles\")\n",
    "res.fetchall()"
   ]
  },
  {
   "cell_type": "markdown",
   "metadata": {},
   "source": [
    "## <a id='toc1_6_'></a>[データベースから値の取り出し](#toc0_)\n",
    "\n",
    "データベースから値を取り出すには、既出であるが、以下のSQL文を用いる  \n",
    "`SELECT カラム名1, カラム名2,... FROM テーブル名`  \n",
    "カラム名に対応したデータが取得でき、executeメソッドの戻り値のインスタンスの`fetchall`メソッドでタプルのリスト形式として取得することができる。  \n",
    "\n"
   ]
  },
  {
   "cell_type": "code",
   "execution_count": 14,
   "metadata": {},
   "outputs": [
    {
     "name": "stdout",
     "output_type": "stream",
     "text": [
      "[(1, 'test1'), (2, 'test2'), (3, 'test3'), (4, 'test4')]\n",
      "[(1, 'test1', 'this is test body'), (2, 'test2', 'this is test body'), (3, 'test3', 'this is test body'), (4, 'test4', 'this is test body')]\n"
     ]
    }
   ],
   "source": [
    "res = c.execute(\"SELECT id, title FROM articles\")\n",
    "res_list = res.fetchall()\n",
    "print(res_list)\n",
    "\n",
    "# また、カラム名に`*`を使用することで全てのカラム名を対象にすることができる。  \n",
    "res = c.execute(\"SELECT * FROM articles\")\n",
    "res_list = res.fetchall()\n",
    "print(res_list)"
   ]
  },
  {
   "cell_type": "markdown",
   "metadata": {},
   "source": [
    "## <a id='toc1_7_'></a>[データベース接続を閉じる](#toc0_)\n",
    "\n",
    "データベースの接続を閉じるには以下のように実行する。  \n",
    "プログラムの終了時に必ずつけた方がよいと思う。  "
   ]
  },
  {
   "cell_type": "code",
   "execution_count": 15,
   "metadata": {},
   "outputs": [],
   "source": [
    "conn.close()"
   ]
  }
 ],
 "metadata": {
  "kernelspec": {
   "display_name": ".venv",
   "language": "python",
   "name": "python3"
  },
  "language_info": {
   "codemirror_mode": {
    "name": "ipython",
    "version": 3
   },
   "file_extension": ".py",
   "mimetype": "text/x-python",
   "name": "python",
   "nbconvert_exporter": "python",
   "pygments_lexer": "ipython3",
   "version": "3.10.13"
  }
 },
 "nbformat": 4,
 "nbformat_minor": 2
}
